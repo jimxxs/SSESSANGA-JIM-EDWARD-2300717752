{
 "cells": [
  {
   "cell_type": "code",
   "execution_count": 1,
   "id": "1d7dc7b5",
   "metadata": {},
   "outputs": [
    {
     "name": "stdout",
     "output_type": "stream",
     "text": [
      "s1 > s2:\n",
      " 0    False\n",
      "1     True\n",
      "2     True\n",
      "3    False\n",
      "4    False\n",
      "dtype: bool\n",
      "s1 < s2:\n",
      " 0     True\n",
      "1    False\n",
      "2    False\n",
      "3     True\n",
      "4    False\n",
      "dtype: bool\n",
      "s1 == s2:\n",
      " 0    False\n",
      "1    False\n",
      "2    False\n",
      "3    False\n",
      "4     True\n",
      "dtype: bool\n"
     ]
    }
   ],
   "source": [
    "import pandas as pd\n",
    "\n",
    "s1 = pd.Series([4, 65, 436, 3, 9])\n",
    "s2 = pd.Series([7, 0, 3, 897, 9])\n",
    "\n",
    "print(\"s1 > s2:\\n\", s1 > s2)\n",
    "print(\"s1 < s2:\\n\", s1 < s2)\n",
    "print(\"s1 == s2:\\n\", s1 == s2)"
   ]
  },
  {
   "cell_type": "code",
   "execution_count": 2,
   "id": "ed82114d",
   "metadata": {},
   "outputs": [
    {
     "name": "stdout",
     "output_type": "stream",
     "text": [
      "Add:\n",
      " 0     3\n",
      "1     7\n",
      "2    11\n",
      "3    15\n",
      "4    23\n",
      "dtype: int64\n",
      "Subtract:\n",
      " 0    1\n",
      "1    1\n",
      "2    1\n",
      "3    1\n",
      "4    5\n",
      "dtype: int64\n",
      "Multiply:\n",
      " 0      2\n",
      "1     12\n",
      "2     30\n",
      "3     56\n",
      "4    126\n",
      "dtype: int64\n",
      "Divide:\n",
      " 0    2.000000\n",
      "1    1.333333\n",
      "2    1.200000\n",
      "3    1.142857\n",
      "4    1.555556\n",
      "dtype: float64\n"
     ]
    }
   ],
   "source": [
    "s1 = pd.Series([2, 4, 6, 8, 14])\n",
    "s2 = pd.Series([1, 3, 5, 7, 9])\n",
    "\n",
    "print(\"Add:\\n\", s1 + s2)\n",
    "print(\"Subtract:\\n\", s1 - s2)\n",
    "print(\"Multiply:\\n\", s1 * s2)\n",
    "print(\"Divide:\\n\", s1 / s2)"
   ]
  },
  {
   "cell_type": "code",
   "execution_count": 3,
   "id": "3ffd6bec",
   "metadata": {},
   "outputs": [
    {
     "name": "stdout",
     "output_type": "stream",
     "text": [
      "Josh       24\n",
      "Sam        36\n",
      "Peace      19\n",
      "Charles    65\n",
      "Tom        44\n",
      "dtype: int64\n"
     ]
    }
   ],
   "source": [
    "dictionary1 = {'Josh': 24, 'Sam': 36, 'Peace': 19, 'Charles': 65, 'Tom': 44}\n",
    "series_dict = pd.Series(dictionary1)\n",
    "print(series_dict)"
   ]
  },
  {
   "cell_type": "code",
   "execution_count": 4,
   "id": "629e27e8",
   "metadata": {},
   "outputs": [
    {
     "name": "stdout",
     "output_type": "stream",
     "text": [
      "['Love' 800 'Joy' 789.9 'Peace' True]\n"
     ]
    }
   ],
   "source": [
    "s = pd.Series(['Love', 800, 'Joy', 789.9, 'Peace', True])\n",
    "arr = s.values\n",
    "print(arr)"
   ]
  },
  {
   "cell_type": "code",
   "execution_count": 5,
   "id": "f938c71e",
   "metadata": {},
   "outputs": [
    {
     "name": "stdout",
     "output_type": "stream",
     "text": [
      "   HomeTeamGoals HomeTeamGoals_MostFrequent\n",
      "0            1.0                        1.0\n",
      "1            NaN                      Other\n",
      "2            4.0                      Other\n",
      "3            4.0                      Other\n",
      "4            1.0                        1.0\n"
     ]
    }
   ],
   "source": [
    "df = pd.read_csv('AfricaCupofNationsMatches.csv')\n",
    "mode_val = df['HomeTeamGoals'].mode()[0]\n",
    "df['HomeTeamGoals_MostFrequent'] = df['HomeTeamGoals'].apply(lambda x: mode_val if x == mode_val else 'Other')\n",
    "print(df[['HomeTeamGoals', 'HomeTeamGoals_MostFrequent']].head())"
   ]
  }
 ],
 "metadata": {
  "kernelspec": {
   "display_name": "base",
   "language": "python",
   "name": "python3"
  },
  "language_info": {
   "codemirror_mode": {
    "name": "ipython",
    "version": 3
   },
   "file_extension": ".py",
   "mimetype": "text/x-python",
   "name": "python",
   "nbconvert_exporter": "python",
   "pygments_lexer": "ipython3",
   "version": "3.12.7"
  }
 },
 "nbformat": 4,
 "nbformat_minor": 5
}
