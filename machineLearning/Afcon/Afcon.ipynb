{
 "cells": [
  {
   "cell_type": "code",
   "execution_count": 2,
   "id": "df4bbaea",
   "metadata": {},
   "outputs": [],
   "source": [
    "import pandas as pd\n",
    "\n",
    "df = pd.read_csv('AfricaCupofNationsMatches.csv')"
   ]
  },
  {
   "cell_type": "code",
   "execution_count": 3,
   "id": "c51ebf90",
   "metadata": {},
   "outputs": [
    {
     "name": "stdout",
     "output_type": "stream",
     "text": [
      "   Year      Date  Time    HomeTeam       AwayTeam  HomeTeamGoals  \\\n",
      "0  1957  10-Feb-57   NaN     Sudan           Egypt            1.0   \n",
      "1  1957  10-Feb-57   NaN  Ethiopia    South Africa            NaN   \n",
      "2  1957  16-Feb-57   NaN     Egypt        Ethiopia            4.0   \n",
      "3  1959  22-May-59   NaN      Egypt       Ethiopia            4.0   \n",
      "4  1959  25-May-59   NaN     Sudan        Ethiopia            1.0   \n",
      "5  1959  29-May-59   NaN      Egypt          Sudan            2.0   \n",
      "6  1962  14-Jan-62   NaN  Ethiopia         Tunisia            4.0   \n",
      "\n",
      "   AwayTeamGoals             Stage  \\\n",
      "0            2.0        Semifinals   \n",
      "1            NaN        Semifinals   \n",
      "2            0.0             Final   \n",
      "3            0.0  Final Tournament   \n",
      "4            0.0  Final Tournament   \n",
      "5            1.0  Final Tournament   \n",
      "6            2.0        Semifinals   \n",
      "\n",
      "                                SpecialWinConditions                 Stadium  \\\n",
      "0                                                NaN       Municipal Stadium   \n",
      "1  Ethiopia  wins due to disqualification of othe...                     NaN   \n",
      "2                                                NaN       Municipal Stadium   \n",
      "3                                                NaN   Prince Farouk Stadium   \n",
      "4                                                NaN   Prince Farouk Stadium   \n",
      "5                                                NaN   Prince Farouk Stadium   \n",
      "6                                                NaN  Hailé Sélassié Stadium   \n",
      "\n",
      "           City  Attendance  \n",
      "0      Khartoum     30000.0  \n",
      "1           NaN         NaN  \n",
      "2      Khartoum     30000.0  \n",
      "3         Cairo     30000.0  \n",
      "4         Cairo     20000.0  \n",
      "5         Cairo     30000.0  \n",
      "6   Addis Ababa     30000.0  \n"
     ]
    }
   ],
   "source": [
    "print(df.head(7))"
   ]
  },
  {
   "cell_type": "code",
   "execution_count": 4,
   "id": "3c5c22a0",
   "metadata": {},
   "outputs": [
    {
     "name": "stdout",
     "output_type": "stream",
     "text": [
      "        HomeTeam       AwayTeam  HomeTeamGoals  AwayTeamGoals\n",
      "0         Sudan           Egypt            1.0            2.0\n",
      "1      Ethiopia    South Africa            NaN            NaN\n",
      "2         Egypt        Ethiopia            4.0            0.0\n",
      "3          Egypt       Ethiopia            4.0            0.0\n",
      "4         Sudan        Ethiopia            1.0            0.0\n",
      "..           ...            ...            ...            ...\n",
      "617  Madagascar         Tunisia            0.0            3.0\n",
      "618     Senegal         Tunisia            1.0            0.0\n",
      "619     Algeria         Nigeria            2.0            1.0\n",
      "620     Tunisia         Nigeria            0.0            1.0\n",
      "621     Senegal         Algeria            0.0            1.0\n",
      "\n",
      "[622 rows x 4 columns]\n"
     ]
    }
   ],
   "source": [
    "print(df[['HomeTeam', 'AwayTeam', 'HomeTeamGoals', 'AwayTeamGoals']])"
   ]
  },
  {
   "cell_type": "code",
   "execution_count": 5,
   "id": "1e762127",
   "metadata": {},
   "outputs": [
    {
     "name": "stdout",
     "output_type": "stream",
     "text": [
      "     Year                         Date   Time  HomeTeam       AwayTeam  \\\n",
      "0    1957                     10-Feb-57    NaN   Sudan           Egypt   \n",
      "2    1957                     16-Feb-57    NaN   Egypt        Ethiopia   \n",
      "3    1959                     22-May-59    NaN    Egypt       Ethiopia   \n",
      "5    1959                     29-May-59    NaN    Egypt          Sudan   \n",
      "7    1962                     18-Jan-62    NaN    Egypt         Uganda   \n",
      "..    ...                           ...    ...      ...            ...   \n",
      "569  2017  5 February 2017 (2017-02-05)  20:00   Egypt        Cameroon   \n",
      "570  2019     21 June 2019 (2019-06-21)  22:00   Egypt        Zimbabwe   \n",
      "573  2019     26 June 2019 (2019-06-26)  22:00   Egypt        DR Congo   \n",
      "574  2019     30 June 2019 (2019-06-30)  21:00  Uganda           Egypt   \n",
      "609  2019      6 July 2019 (2019-07-06)  21:00   Egypt    South Africa   \n",
      "\n",
      "     HomeTeamGoals  AwayTeamGoals             Stage SpecialWinConditions  \\\n",
      "0              1.0            2.0        Semifinals                  NaN   \n",
      "2              4.0            0.0             Final                  NaN   \n",
      "3              4.0            0.0  Final Tournament                  NaN   \n",
      "5              2.0            1.0  Final Tournament                  NaN   \n",
      "7              2.0            1.0        Semifinals                  NaN   \n",
      "..             ...            ...               ...                  ...   \n",
      "569            1.0            2.0             Final                  NaN   \n",
      "570            1.0            0.0           Group A                  NaN   \n",
      "573            2.0            0.0           Group A                  NaN   \n",
      "574            0.0            2.0           Group A                  NaN   \n",
      "609            0.0            1.0       Round of 16                  NaN   \n",
      "\n",
      "                         Stadium          City  Attendance  \n",
      "0              Municipal Stadium      Khartoum     30000.0  \n",
      "2              Municipal Stadium      Khartoum     30000.0  \n",
      "3          Prince Farouk Stadium         Cairo     30000.0  \n",
      "5          Prince Farouk Stadium         Cairo     30000.0  \n",
      "7         Hailé Sélassié Stadium   Addis Ababa     30000.0  \n",
      "..                           ...           ...         ...  \n",
      "569            Stade de l'Amitié    Libreville         NaN  \n",
      "570  Cairo International Stadium         Cairo     73299.0  \n",
      "573  Cairo International Stadium         Cairo     74219.0  \n",
      "574  Cairo International Stadium         Cairo     74566.0  \n",
      "609  Cairo International Stadium         Cairo     75000.0  \n",
      "\n",
      "[95 rows x 12 columns]\n"
     ]
    }
   ],
   "source": [
    "egypt_rows = df[(df['HomeTeam'].str.contains('Egypt', na=False)) | (df['AwayTeam'].str.contains('Egypt', na=False))]\n",
    "print(egypt_rows)"
   ]
  },
  {
   "cell_type": "code",
   "execution_count": 6,
   "id": "b01c1bca",
   "metadata": {},
   "outputs": [
    {
     "name": "stdout",
     "output_type": "stream",
     "text": [
      "Rows: 622 Columns: 12\n"
     ]
    }
   ],
   "source": [
    "print(\"Rows:\", df.shape[0], \"Columns:\", df.shape[1])"
   ]
  },
  {
   "cell_type": "code",
   "execution_count": 7,
   "id": "da55ca6f",
   "metadata": {},
   "outputs": [
    {
     "name": "stdout",
     "output_type": "stream",
     "text": [
      "     Year                         Date   Time        HomeTeam       AwayTeam  \\\n",
      "1    1957                     10-Feb-57    NaN      Ethiopia    South Africa   \n",
      "8    1962                     20-Jan-62    NaN       Tunisia          Uganda   \n",
      "9    1962                     21-Jan-62    NaN      Ethiopia           Egypt   \n",
      "10   1963                     24-Nov-63    NaN         Ghana         Tunisia   \n",
      "11   1963                     26-Nov-63    NaN         Ghana        Ethiopia   \n",
      "..    ...                           ...    ...            ...            ...   \n",
      "565  2017  29 January 2017 (2017-01-29)  20:00         Egypt         Morocco   \n",
      "566  2017  1 February 2017 (2017-02-01)  20:00  Burkina Faso           Egypt   \n",
      "567  2017  2 February 2017 (2017-02-02)  20:00      Cameroon           Ghana   \n",
      "568  2017  4 February 2017 (2017-02-04)  20:00  Burkina Faso           Ghana   \n",
      "569  2017  5 February 2017 (2017-02-05)  20:00         Egypt        Cameroon   \n",
      "\n",
      "     HomeTeamGoals  AwayTeamGoals                 Stage  \\\n",
      "1              NaN            NaN            Semifinals   \n",
      "8              3.0            0.0     Third place match   \n",
      "9              4.0            2.0                 Final   \n",
      "10             1.0            1.0               Group A   \n",
      "11             2.0            0.0               Group A   \n",
      "..             ...            ...                   ...   \n",
      "565            1.0            0.0        Quarter-finals   \n",
      "566            1.0            1.0           Semi-finals   \n",
      "567            2.0            0.0           Semi-finals   \n",
      "568            1.0            0.0  Third place play-off   \n",
      "569            1.0            2.0                 Final   \n",
      "\n",
      "                                  SpecialWinConditions  \\\n",
      "1    Ethiopia  wins due to disqualification of othe...   \n",
      "8                                                  NaN   \n",
      "9                                win after extra time    \n",
      "10                                                 NaN   \n",
      "11                                                 NaN   \n",
      "..                                                 ...   \n",
      "565                                                NaN   \n",
      "566                        Egypt win on Penalities 3-4   \n",
      "567                                                NaN   \n",
      "568                                                NaN   \n",
      "569                                                NaN   \n",
      "\n",
      "                    Stadium          City  Attendance  \n",
      "1                       NaN           NaN         NaN  \n",
      "8    Hailé Sélassié Stadium   Addis Ababa         NaN  \n",
      "9    Hailé Sélassié Stadium   Addis Ababa         NaN  \n",
      "10     Accra Sports Stadium         Accra         NaN  \n",
      "11     Accra Sports Stadium         Accra         NaN  \n",
      "..                      ...           ...         ...  \n",
      "565    Stade de Port-Gentil   Port-Gentil         NaN  \n",
      "566       Stade de l'Amitié    Libreville         NaN  \n",
      "567    Stade de Franceville   Franceville         NaN  \n",
      "568    Stade de Port-Gentil   Port-Gentil         NaN  \n",
      "569       Stade de l'Amitié    Libreville         NaN  \n",
      "\n",
      "[100 rows x 12 columns]\n"
     ]
    }
   ],
   "source": [
    "missing_attendance = df[df['Attendance'].isnull()]\n",
    "print(missing_attendance)"
   ]
  },
  {
   "cell_type": "code",
   "execution_count": 8,
   "id": "cec0f19b",
   "metadata": {},
   "outputs": [
    {
     "name": "stdout",
     "output_type": "stream",
     "text": [
      "     Year                         Date   Time    HomeTeam     AwayTeam  \\\n",
      "2    1957                     16-Feb-57    NaN     Egypt      Ethiopia   \n",
      "3    1959                     22-May-59    NaN      Egypt     Ethiopia   \n",
      "6    1962                     14-Jan-62    NaN  Ethiopia       Tunisia   \n",
      "8    1962                     20-Jan-62    NaN   Tunisia        Uganda   \n",
      "9    1962                     21-Jan-62    NaN  Ethiopia         Egypt   \n",
      "..    ...                           ...    ...        ...          ...   \n",
      "553  2017  20 January 2017 (2017-01-20)  20:00   Morocco          Togo   \n",
      "585  2019     27 June 2019 (2019-06-27)  22:00     Kenya      Tanzania   \n",
      "595  2019     24 June 2019 (2019-06-24)  22:00      Mali    Mauritania   \n",
      "608  2019      6 July 2019 (2019-07-06)  18:00   Nigeria      Cameroon   \n",
      "611  2019      7 July 2019 (2019-07-07)  21:00   Algeria        Guinea   \n",
      "\n",
      "     HomeTeamGoals  AwayTeamGoals              Stage    SpecialWinConditions  \\\n",
      "2              4.0            0.0              Final                     NaN   \n",
      "3              4.0            0.0   Final Tournament                     NaN   \n",
      "6              4.0            2.0         Semifinals                     NaN   \n",
      "8              3.0            0.0  Third place match                     NaN   \n",
      "9              4.0            2.0              Final   win after extra time    \n",
      "..             ...            ...                ...                     ...   \n",
      "553            3.0            1.0            Group C                     NaN   \n",
      "585            3.0            2.0            Group C                     NaN   \n",
      "595            4.0            1.0            Group E                     NaN   \n",
      "608            3.0            2.0        Round of 16                     NaN   \n",
      "611            3.0            0.0        Round of 16                     NaN   \n",
      "\n",
      "                    Stadium          City  Attendance  \n",
      "2         Municipal Stadium      Khartoum     30000.0  \n",
      "3     Prince Farouk Stadium         Cairo     30000.0  \n",
      "6    Hailé Sélassié Stadium   Addis Ababa     30000.0  \n",
      "8    Hailé Sélassié Stadium   Addis Ababa         NaN  \n",
      "9    Hailé Sélassié Stadium   Addis Ababa         NaN  \n",
      "..                      ...           ...         ...  \n",
      "553            Stade d'Oyem          Oyem         NaN  \n",
      "585         30 June Stadium         Cairo      7233.0  \n",
      "595            Suez Stadium          Suez      6202.0  \n",
      "608      Alexandria Stadium    Alexandria     10000.0  \n",
      "611         30 June Stadium         Cairo      8205.0  \n",
      "\n",
      "[138 rows x 12 columns]\n"
     ]
    }
   ],
   "source": [
    "filtered = df[df['HomeTeamGoals'].between(3, 6, inclusive='both')]\n",
    "print(filtered)"
   ]
  },
  {
   "cell_type": "code",
   "execution_count": 9,
   "id": "329231f5",
   "metadata": {},
   "outputs": [
    {
     "name": "stdout",
     "output_type": "stream",
     "text": [
      "Year                                 1957\n",
      "Date                            16-Feb-57\n",
      "Time                                  NaN\n",
      "HomeTeam                           Egypt \n",
      "AwayTeam                         Ethiopia\n",
      "HomeTeamGoals                         4.0\n",
      "AwayTeamGoals                        10.0\n",
      "Stage                               Final\n",
      "SpecialWinConditions                  NaN\n",
      "Stadium                 Municipal Stadium\n",
      "City                             Khartoum\n",
      "Attendance                        30000.0\n",
      "Name: 2, dtype: object\n"
     ]
    }
   ],
   "source": [
    "df.at[2, 'AwayTeamGoals'] = 10\n",
    "print(df.iloc[2])"
   ]
  },
  {
   "cell_type": "code",
   "execution_count": 10,
   "id": "6b548c7c",
   "metadata": {},
   "outputs": [
    {
     "name": "stdout",
     "output_type": "stream",
     "text": [
      "     Year      Date  Time   HomeTeam  AwayTeam  HomeTeamGoals  AwayTeamGoals  \\\n",
      "205  1990   2-Mar-90   NaN  Algeria    Nigeria            5.0            1.0   \n",
      "29   1968  14-Jan-68   NaN  Algeria     Uganda            4.0            0.0   \n",
      "135  1980  16-Mar-80   NaN  Algeria     Guinea            3.0            2.0   \n",
      "164  1984   5-Mar-84   NaN  Algeria     Malawi            3.0            0.0   \n",
      "171  1984  17-Mar-84   NaN  Algeria      Egypt            3.0            1.0   \n",
      "\n",
      "                 Stage SpecialWinConditions                       Stadium  \\\n",
      "205            Group A                  NaN          Stade 5 Juillet 1962   \n",
      "29             Group A                  NaN        Hailé Sélassié Stadium   \n",
      "135            Group B                  NaN               Liberty Stadium   \n",
      "164            Group B                  NaN                  Stade Bouaké   \n",
      "171  Third place match                  NaN  Stade Félix Houphouët-Boigny   \n",
      "\n",
      "             City  Attendance  \n",
      "205       Algiers     85000.0  \n",
      "29    Addis Ababa     25000.0  \n",
      "135        Ibadan     20000.0  \n",
      "164        Bouaké     10000.0  \n",
      "171       Abidjan       500.0  \n"
     ]
    }
   ],
   "source": [
    "sorted_df = df.sort_values(['HomeTeam', 'HomeTeamGoals'], ascending=[True, False])\n",
    "print(sorted_df.head())"
   ]
  },
  {
   "cell_type": "code",
   "execution_count": 11,
   "id": "f261a175",
   "metadata": {},
   "outputs": [
    {
     "name": "stdout",
     "output_type": "stream",
     "text": [
      "['Year', 'Date ', 'Time ', 'HomeTeam', 'AwayTeam', 'HomeTeamGoals', 'AwayTeamGoals', 'Stage', 'SpecialWinConditions', 'Stadium', 'City', 'Attendance']\n"
     ]
    }
   ],
   "source": [
    "print(list(df.columns))"
   ]
  },
  {
   "cell_type": "code",
   "execution_count": 12,
   "id": "f9709803",
   "metadata": {},
   "outputs": [
    {
     "name": "stdout",
     "output_type": "stream",
     "text": [
      "   Year      Date  Time    HomeTeam       AwayTeam  HomeTeamGoals  \\\n",
      "0  1957  10-Feb-57   NaN     Sudan           Egypt            1.0   \n",
      "1  1957  10-Feb-57   NaN  Ethiopia    South Africa            NaN   \n",
      "2  1957  16-Feb-57   NaN     Egypt        Ethiopia            4.0   \n",
      "3  1959  22-May-59   NaN      Egypt       Ethiopia            4.0   \n",
      "4  1959  25-May-59   NaN     Sudan        Ethiopia            1.0   \n",
      "\n",
      "   AwayTeamGoals             Stage  \\\n",
      "0            2.0        Semifinals   \n",
      "1            NaN        Semifinals   \n",
      "2           10.0             Final   \n",
      "3            0.0  Final Tournament   \n",
      "4            0.0  Final Tournament   \n",
      "\n",
      "                                SpecialWinConditions                Stadium  \\\n",
      "0                                                NaN      Municipal Stadium   \n",
      "1  Ethiopia  wins due to disqualification of othe...                    NaN   \n",
      "2                                                NaN      Municipal Stadium   \n",
      "3                                                NaN  Prince Farouk Stadium   \n",
      "4                                                NaN  Prince Farouk Stadium   \n",
      "\n",
      "        City  Attendance  TournamentYear  \n",
      "0   Khartoum     30000.0            1957  \n",
      "1        NaN         NaN            1957  \n",
      "2   Khartoum     30000.0            1957  \n",
      "3      Cairo     30000.0            1959  \n",
      "4      Cairo     20000.0            1959  \n"
     ]
    }
   ],
   "source": [
    "df['TournamentYear'] = df['Year']\n",
    "print(df.head())"
   ]
  },
  {
   "cell_type": "code",
   "execution_count": 13,
   "id": "2639f6a9",
   "metadata": {},
   "outputs": [
    {
     "name": "stdout",
     "output_type": "stream",
     "text": [
      "     Year Date  Time  HomeTeam AwayTeam  HomeTeamGoals  AwayTeamGoals Stage  \\\n",
      "622  2025   NaN   NaN    Test1    Test2            1.0            2.0   NaN   \n",
      "623  2025   NaN   NaN    Test3    Test4            0.0            0.0   NaN   \n",
      "\n",
      "    SpecialWinConditions Stadium City  Attendance  TournamentYear  \n",
      "622                  NaN     NaN  NaN         NaN             NaN  \n",
      "623                  NaN     NaN  NaN         NaN             NaN  \n"
     ]
    }
   ],
   "source": [
    "new_rows = pd.DataFrame([{'Year': 2025, 'HomeTeam': 'Test1', 'AwayTeam': 'Test2', 'HomeTeamGoals': 1, 'AwayTeamGoals': 2},\n",
    "                         {'Year': 2025, 'HomeTeam': 'Test3', 'AwayTeam': 'Test4', 'HomeTeamGoals': 0, 'AwayTeamGoals': 0}])\n",
    "df = pd.concat([df, new_rows], ignore_index=True)\n",
    "print(df.tail(2))"
   ]
  },
  {
   "cell_type": "code",
   "execution_count": 14,
   "id": "75903db8",
   "metadata": {},
   "outputs": [],
   "source": [
    "df['AwayTeam'] = df['AwayTeam'].replace('Uganda', 'China')"
   ]
  },
  {
   "cell_type": "code",
   "execution_count": 15,
   "id": "7a561a51",
   "metadata": {},
   "outputs": [],
   "source": [
    "df = df.reset_index(drop=True)"
   ]
  },
  {
   "cell_type": "code",
   "execution_count": 16,
   "id": "84812fdc",
   "metadata": {},
   "outputs": [
    {
     "name": "stdout",
     "output_type": "stream",
     "text": [
      "True\n"
     ]
    }
   ],
   "source": [
    "print('Stadium' in df.columns)"
   ]
  },
  {
   "cell_type": "code",
   "execution_count": 17,
   "id": "e15ca871",
   "metadata": {},
   "outputs": [],
   "source": [
    "df['AwayTeamGoals'] = pd.to_numeric(df['AwayTeamGoals'], errors='coerce').astype(float)"
   ]
  },
  {
   "cell_type": "code",
   "execution_count": 18,
   "id": "3049ceca",
   "metadata": {},
   "outputs": [],
   "source": [
    "df = df.iloc[:-10]"
   ]
  },
  {
   "cell_type": "code",
   "execution_count": 19,
   "id": "8fa15001",
   "metadata": {},
   "outputs": [
    {
     "name": "stdout",
     "output_type": "stream",
     "text": [
      "Sudan   Egypt\n",
      "Ethiopia   South Africa\n",
      "Egypt   Ethiopia\n",
      "Egypt  Ethiopia\n",
      "Sudan   Ethiopia\n",
      "Egypt  Sudan\n",
      "Ethiopia   Tunisia\n"
     ]
    }
   ],
   "source": [
    "for idx, row in df.iterrows():\n",
    "    print(row['HomeTeam'], row['AwayTeam'])\n",
    "    if idx > 5: break  # Just to avoid too much output"
   ]
  },
  {
   "cell_type": "code",
   "execution_count": 20,
   "id": "5bf8b77d",
   "metadata": {},
   "outputs": [],
   "source": [
    "cols = ['Year', 'HomeTeam', 'AwayTeam', 'HomeTeamGoals', 'AwayTeamGoals'] + [col for col in df.columns if col not in ['Year', 'HomeTeam', 'AwayTeam', 'HomeTeamGoals', 'AwayTeamGoals']]\n",
    "df = df[cols]"
   ]
  },
  {
   "cell_type": "code",
   "execution_count": 21,
   "id": "8ba8b0f5",
   "metadata": {},
   "outputs": [],
   "source": [
    "df = df[df['HomeTeamGoals'] != 0]"
   ]
  }
 ],
 "metadata": {
  "kernelspec": {
   "display_name": "base",
   "language": "python",
   "name": "python3"
  },
  "language_info": {
   "codemirror_mode": {
    "name": "ipython",
    "version": 3
   },
   "file_extension": ".py",
   "mimetype": "text/x-python",
   "name": "python",
   "nbconvert_exporter": "python",
   "pygments_lexer": "ipython3",
   "version": "3.12.7"
  }
 },
 "nbformat": 4,
 "nbformat_minor": 5
}
