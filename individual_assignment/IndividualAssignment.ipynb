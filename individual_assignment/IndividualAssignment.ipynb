{
 "cells": [
  {
   "cell_type": "code",
   "execution_count": 1,
   "id": "9e1e71d9",
   "metadata": {},
   "outputs": [
    {
     "name": "stdout",
     "output_type": "stream",
     "text": [
      "Original Mine Dataset Shape: (31, 5)\n",
      "Original Sales Dataset Shape: (8, 7)\n"
     ]
    }
   ],
   "source": [
    "import pandas as pd\n",
    "import numpy as np\n",
    "from datetime import datetime\n",
    "\n",
    "# Load datasets\n",
    "df_mine = pd.read_csv('Mine.csv')\n",
    "df_sales = pd.read_csv('Sales.csv')\n",
    "\n",
    "print(\"Original Mine Dataset Shape:\", df_mine.shape)\n",
    "print(\"Original Sales Dataset Shape:\", df_sales.shape)"
   ]
  },
  {
   "cell_type": "code",
   "execution_count": 2,
   "id": "f8e910e0",
   "metadata": {},
   "outputs": [
    {
     "name": "stdout",
     "output_type": "stream",
     "text": [
      "Missing values in Mine dataset:\n",
      " Duration    0\n",
      "Date        2\n",
      "Pulse       0\n",
      "Maxpulse    0\n",
      "Calories    0\n",
      "dtype: int64\n",
      "\n",
      "Missing values in Sales dataset:\n",
      " Order ID         0\n",
      "Customer Name    0\n",
      "Order Date       0\n",
      "Product          0\n",
      "Quantity         0\n",
      "Unit Price       0\n",
      "Total Revenue    1\n",
      "dtype: int64\n"
     ]
    }
   ],
   "source": [
    "# Handle missing values in Mine dataset\n",
    "df_mine['Calories'] = df_mine['Calories'].fillna(df_mine['Calories'].mean())\n",
    "df_mine['Pulse'] = df_mine['Pulse'].fillna(df_mine['Pulse'].median())\n",
    "df_mine['Maxpulse'] = df_mine['Maxpulse'].fillna(df_mine['Maxpulse'].median())\n",
    "\n",
    "# Handle missing values in Sales dataset\n",
    "df_sales['Customer Name'] = df_sales['Customer Name'].fillna('Unknown')\n",
    "df_sales['Quantity'] = df_sales['Quantity'].fillna(0)\n",
    "df_sales['Unit Price'] = df_sales['Unit Price'].fillna(df_sales['Unit Price'].mean())\n",
    "\n",
    "print(\"Missing values in Mine dataset:\\n\", df_mine.isnull().sum())\n",
    "print(\"\\nMissing values in Sales dataset:\\n\", df_sales.isnull().sum())"
   ]
  },
  {
   "cell_type": "code",
   "execution_count": 3,
   "id": "dc256fd2",
   "metadata": {},
   "outputs": [
    {
     "name": "stdout",
     "output_type": "stream",
     "text": [
      "Mine dataset date range: 1900-01-01 00:00:00 to 2023-10-31 00:00:00\n",
      "Sales dataset date range: 2024-01-01 00:00:00 to 2024-02-01 00:00:00\n"
     ]
    }
   ],
   "source": [
    "# Fix dates in Mine dataset\n",
    "df_mine['Date'] = df_mine['Date'].fillna('1900/01/01')\n",
    "df_mine['Date'] = df_mine['Date'].str.replace(\"'\", \"\")\n",
    "df_mine['Date'] = pd.to_datetime(df_mine['Date'], format='%Y/%m/%d', errors='coerce')\n",
    "\n",
    "# Fix dates in Sales dataset\n",
    "df_sales['Order Date'] = df_sales['Order Date'].str.replace(\"'\", \"\")\n",
    "df_sales['Order Date'] = pd.to_datetime(df_sales['Order Date'], format='%d/%m/%Y', errors='coerce')\n",
    "\n",
    "print(\"Mine dataset date range:\", df_mine['Date'].min(), \"to\", df_mine['Date'].max())\n",
    "print(\"Sales dataset date range:\", df_sales['Order Date'].min(), \"to\", df_sales['Order Date'].max())"
   ]
  },
  {
   "cell_type": "code",
   "execution_count": 4,
   "id": "6da28073",
   "metadata": {},
   "outputs": [
    {
     "name": "stdout",
     "output_type": "stream",
     "text": [
      "Mine dataset shape after cleaning: (30, 5)\n",
      "Sales dataset shape after cleaning: (6, 7)\n"
     ]
    }
   ],
   "source": [
    "# Remove duplicates\n",
    "df_mine = df_mine.drop_duplicates()\n",
    "df_sales = df_sales.drop_duplicates()\n",
    "\n",
    "# Handle wrong data in Mine dataset\n",
    "df_mine = df_mine[df_mine['Duration'] <= 120]  # Remove unrealistic durations\n",
    "\n",
    "# Handle wrong data in Sales dataset\n",
    "df_sales = df_sales[df_sales['Quantity'] >= 0]  # Remove negative quantities\n",
    "df_sales['Total Revenue'] = df_sales['Quantity'] * df_sales['Unit Price']  # Recalculate revenue\n",
    "\n",
    "print(\"Mine dataset shape after cleaning:\", df_mine.shape)\n",
    "print(\"Sales dataset shape after cleaning:\", df_sales.shape)"
   ]
  },
  {
   "cell_type": "code",
   "execution_count": 5,
   "id": "b647fc3b",
   "metadata": {},
   "outputs": [
    {
     "name": "stdout",
     "output_type": "stream",
     "text": [
      "Final data quality check:\n",
      "\n",
      "Mine Dataset Info:\n",
      "<class 'pandas.core.frame.DataFrame'>\n",
      "Index: 30 entries, 0 to 30\n",
      "Data columns (total 5 columns):\n",
      " #   Column    Non-Null Count  Dtype         \n",
      "---  ------    --------------  -----         \n",
      " 0   Duration  30 non-null     int64         \n",
      " 1   Date      29 non-null     datetime64[ns]\n",
      " 2   Pulse     30 non-null     float64       \n",
      " 3   Maxpulse  30 non-null     float64       \n",
      " 4   Calories  30 non-null     float64       \n",
      "dtypes: datetime64[ns](1), float64(3), int64(1)\n",
      "memory usage: 1.4 KB\n",
      "None\n",
      "\n",
      "Sales Dataset Info:\n",
      "<class 'pandas.core.frame.DataFrame'>\n",
      "Index: 6 entries, 0 to 5\n",
      "Data columns (total 7 columns):\n",
      " #   Column         Non-Null Count  Dtype         \n",
      "---  ------         --------------  -----         \n",
      " 0   Order ID       6 non-null      int64         \n",
      " 1   Customer Name  6 non-null      object        \n",
      " 2   Order Date     4 non-null      datetime64[ns]\n",
      " 3   Product        6 non-null      object        \n",
      " 4   Quantity       6 non-null      float64       \n",
      " 5   Unit Price     6 non-null      float64       \n",
      " 6   Total Revenue  6 non-null      float64       \n",
      "dtypes: datetime64[ns](1), float64(3), int64(1), object(2)\n",
      "memory usage: 384.0+ bytes\n",
      "None\n",
      "\n",
      "Cleaned datasets have been saved successfully!\n"
     ]
    }
   ],
   "source": [
    "# Final data quality check\n",
    "print(\"Final data quality check:\")\n",
    "print(\"\\nMine Dataset Info:\")\n",
    "print(df_mine.info())\n",
    "print(\"\\nSales Dataset Info:\")\n",
    "print(df_sales.info())\n",
    "\n",
    "# Save cleaned datasets\n",
    "df_mine.to_csv('cleaned_mine.csv', index=False)\n",
    "df_sales.to_csv('cleaned_sales.csv', index=False)\n",
    "\n",
    "print(\"\\nCleaned datasets have been saved successfully!\")"
   ]
  }
 ],
 "metadata": {
  "kernelspec": {
   "display_name": "base",
   "language": "python",
   "name": "python3"
  },
  "language_info": {
   "codemirror_mode": {
    "name": "ipython",
    "version": 3
   },
   "file_extension": ".py",
   "mimetype": "text/x-python",
   "name": "python",
   "nbconvert_exporter": "python",
   "pygments_lexer": "ipython3",
   "version": "3.12.7"
  }
 },
 "nbformat": 4,
 "nbformat_minor": 5
}
