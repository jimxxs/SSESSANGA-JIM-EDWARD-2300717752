{
 "cells": [
  {
   "cell_type": "code",
   "execution_count": 56,
   "id": "ea84198b",
   "metadata": {},
   "outputs": [],
   "source": [
    "file = open('jim.txt', 'r')"
   ]
  },
  {
   "cell_type": "code",
   "execution_count": 57,
   "id": "bd61b997",
   "metadata": {},
   "outputs": [
    {
     "name": "stdout",
     "output_type": "stream",
     "text": [
      "This is a new line.\n",
      "This is another new line.\n",
      "This is an appended line to jim.txt.\n",
      "This is an appended line to jim.txt.\n",
      "This is an appended line to jim.txt.\n",
      "This is an appended line to jim.txt.\n",
      "This is an appended line to jim.txt.\n",
      "\n"
     ]
    }
   ],
   "source": [
    "read = file.read()\n",
    "file.close()\n",
    "print(read)"
   ]
  },
  {
   "cell_type": "code",
   "execution_count": 59,
   "id": "8ccad9ef",
   "metadata": {},
   "outputs": [
    {
     "name": "stdout",
     "output_type": "stream",
     "text": [
      "This is a new line.\n",
      "This is another new line.\n",
      "This is an appended line to jim.txt.\n",
      "This is an appended line to jim.txt.\n",
      "This is an appended line to jim.txt.\n",
      "This is an appended line to jim.txt.\n",
      "This is an appended line to jim.txt.\n",
      "\n"
     ]
    }
   ],
   "source": [
    "\n",
    "#appending to a file\n",
    "with open('jom.txt', 'a') as file:\n",
    "    file.write('This is an appended line.\\n')\n",
    "    with open('jim.txt', 'a') as file2:\n",
    "        file2.write('This is an appended line to jim.txt.\\n')\n",
    "        print(read)"
   ]
  }
 ],
 "metadata": {
  "kernelspec": {
   "display_name": "base",
   "language": "python",
   "name": "python3"
  },
  "language_info": {
   "codemirror_mode": {
    "name": "ipython",
    "version": 3
   },
   "file_extension": ".py",
   "mimetype": "text/x-python",
   "name": "python",
   "nbconvert_exporter": "python",
   "pygments_lexer": "ipython3",
   "version": "3.12.7"
  }
 },
 "nbformat": 4,
 "nbformat_minor": 5
}
