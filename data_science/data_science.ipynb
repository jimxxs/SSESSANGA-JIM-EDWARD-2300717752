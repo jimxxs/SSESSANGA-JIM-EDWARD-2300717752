{
 "cells": [
  {
   "cell_type": "code",
   "execution_count": 1,
   "id": "13db6a95",
   "metadata": {},
   "outputs": [
    {
     "name": "stdout",
     "output_type": "stream",
     "text": [
      "i love data science\n"
     ]
    }
   ],
   "source": [
    "print(\"i love data science\")"
   ]
  }
 ],
 "metadata": {
  "kernelspec": {
   "display_name": "base",
   "language": "python",
   "name": "python3"
  },
  "language_info": {
   "name": "python",
   "version": "3.12.7"
  }
 },
 "nbformat": 4,
 "nbformat_minor": 5
}
